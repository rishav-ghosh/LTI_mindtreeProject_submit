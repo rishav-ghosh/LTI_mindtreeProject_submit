{
 "cells": [
  {
   "cell_type": "code",
   "execution_count": 1,
   "id": "9c0111f1",
   "metadata": {},
   "outputs": [],
   "source": [
    "from torchvision import datasets, transforms\n",
    "from torch.utils.data import random_split, DataLoader\n",
    "import os\n",
    "import torch\n",
    "import torch.nn as nn\n",
    "import torch.optim as optim"
   ]
  },
  {
   "cell_type": "code",
   "execution_count": 2,
   "id": "d2dbb8fd",
   "metadata": {},
   "outputs": [],
   "source": [
    "DATA_DIR = \"/Users/rishavghosh/Desktop/python/Oasis_dataset\""
   ]
  },
  {
   "cell_type": "code",
   "execution_count": 3,
   "id": "99439056",
   "metadata": {},
   "outputs": [],
   "source": [
    "transform = transforms.Compose([\n",
    "    transforms.Resize(256),               # Resize smaller edge to 256\n",
    "    transforms.CenterCrop(224),           # Crop to 224x224 as VGG expects\n",
    "    transforms.ToTensor(),                # Convert PIL Image to Torch tensor\n",
    "    transforms.Normalize(                 # Normalize to ImageNet mean/std\n",
    "        mean=[0.485, 0.456, 0.406],      \n",
    "        std=[0.229, 0.224, 0.225]\n",
    "    )\n",
    "])"
   ]
  },
  {
   "cell_type": "code",
   "execution_count": 4,
   "id": "7e8384c7",
   "metadata": {},
   "outputs": [
    {
     "name": "stdout",
     "output_type": "stream",
     "text": [
      "Classes: ['Mild Dementia', 'Moderate Dementia', 'Non Demented', 'Very mild Dementia']\n"
     ]
    }
   ],
   "source": [
    "full_dataset = datasets.ImageFolder(DATA_DIR, transform=transform)\n",
    "print(\"Classes:\", full_dataset.classes)"
   ]
  },
  {
   "cell_type": "code",
   "execution_count": 5,
   "id": "ded450e8",
   "metadata": {},
   "outputs": [
    {
     "name": "stdout",
     "output_type": "stream",
     "text": [
      "Train size: 96336\n",
      "Test size: 24085\n"
     ]
    }
   ],
   "source": [
    "train_size = int(0.8 * len(full_dataset))\n",
    "test_size = len(full_dataset) - train_size\n",
    "\n",
    "train_dataset, test_dataset = random_split(full_dataset, [train_size, test_size])\n",
    "\n",
    "print(\"Train size:\", len(train_dataset))\n",
    "print(\"Test size:\", len(test_dataset))"
   ]
  },
  {
   "cell_type": "code",
   "execution_count": 6,
   "id": "f732224f",
   "metadata": {},
   "outputs": [
    {
     "name": "stdout",
     "output_type": "stream",
     "text": [
      "Train class counts: {'Mild Dementia': 11116, 'Moderate Dementia': 5580, 'Non Demented': 61551, 'Very mild Dementia': 18089}\n"
     ]
    }
   ],
   "source": [
    "from torch.utils.data import WeightedRandomSampler\n",
    "import numpy as np\n",
    "import torch\n",
    "\n",
    "# Extract labels from train dataset\n",
    "train_targets = [full_dataset.samples[i][1] for i in train_dataset.indices]\n",
    "class_counts = np.bincount(train_targets)\n",
    "\n",
    "print(\"Train class counts:\", dict(zip(full_dataset.classes, class_counts)))\n",
    "\n",
    "# Compute class weights\n",
    "class_weights = 1. / torch.tensor(class_counts, dtype=torch.float)\n",
    "sample_weights = [class_weights[label] for label in train_targets]\n",
    "\n",
    "# Sampler for balanced training\n",
    "train_sampler = WeightedRandomSampler(weights=sample_weights,\n",
    "                                      num_samples=len(sample_weights),\n",
    "                                      replacement=True)\n"
   ]
  },
  {
   "cell_type": "code",
   "execution_count": 7,
   "id": "da670cab",
   "metadata": {},
   "outputs": [],
   "source": [
    "# DataLoaders\n",
    "train_loader = DataLoader(train_dataset, batch_size=32, sampler=train_sampler)\n",
    "test_loader = DataLoader(test_dataset, batch_size=32, shuffle=False)\n"
   ]
  },
  {
   "cell_type": "code",
   "execution_count": 8,
   "id": "5cf02f64",
   "metadata": {},
   "outputs": [
    {
     "name": "stderr",
     "output_type": "stream",
     "text": [
      "/Users/rishavghosh/Library/Python/3.9/lib/python/site-packages/torchvision/models/_utils.py:208: UserWarning: The parameter 'pretrained' is deprecated since 0.13 and may be removed in the future, please use 'weights' instead.\n",
      "  warnings.warn(\n",
      "/Users/rishavghosh/Library/Python/3.9/lib/python/site-packages/torchvision/models/_utils.py:223: UserWarning: Arguments other than a weight enum or `None` for 'weights' are deprecated since 0.13 and may be removed in the future. The current behavior is equivalent to passing `weights=VGG16_Weights.IMAGENET1K_V1`. You can also use `weights=VGG16_Weights.DEFAULT` to get the most up-to-date weights.\n",
      "  warnings.warn(msg)\n"
     ]
    }
   ],
   "source": [
    "import torchvision.models as models\n",
    "model = models.vgg16(pretrained=True)"
   ]
  },
  {
   "cell_type": "code",
   "execution_count": 9,
   "id": "27da2a8c",
   "metadata": {},
   "outputs": [],
   "source": [
    "for param in model.features.parameters():\n",
    "    param.requires_grad = False"
   ]
  },
  {
   "cell_type": "code",
   "execution_count": 10,
   "id": "0b433de9",
   "metadata": {},
   "outputs": [
    {
     "data": {
      "text/plain": [
       "========================================================================================================================\n",
       "Layer (type (var_name))                  Input Shape          Output Shape         Param #              Trainable\n",
       "========================================================================================================================\n",
       "VGG (VGG)                                [32, 3, 224, 224]    [32, 1000]           --                   Partial\n",
       "├─Sequential (features)                  [32, 3, 224, 224]    [32, 512, 7, 7]      --                   False\n",
       "│    └─Conv2d (0)                        [32, 3, 224, 224]    [32, 64, 224, 224]   (1,792)              False\n",
       "│    └─ReLU (1)                          [32, 64, 224, 224]   [32, 64, 224, 224]   --                   --\n",
       "│    └─Conv2d (2)                        [32, 64, 224, 224]   [32, 64, 224, 224]   (36,928)             False\n",
       "│    └─ReLU (3)                          [32, 64, 224, 224]   [32, 64, 224, 224]   --                   --\n",
       "│    └─MaxPool2d (4)                     [32, 64, 224, 224]   [32, 64, 112, 112]   --                   --\n",
       "│    └─Conv2d (5)                        [32, 64, 112, 112]   [32, 128, 112, 112]  (73,856)             False\n",
       "│    └─ReLU (6)                          [32, 128, 112, 112]  [32, 128, 112, 112]  --                   --\n",
       "│    └─Conv2d (7)                        [32, 128, 112, 112]  [32, 128, 112, 112]  (147,584)            False\n",
       "│    └─ReLU (8)                          [32, 128, 112, 112]  [32, 128, 112, 112]  --                   --\n",
       "│    └─MaxPool2d (9)                     [32, 128, 112, 112]  [32, 128, 56, 56]    --                   --\n",
       "│    └─Conv2d (10)                       [32, 128, 56, 56]    [32, 256, 56, 56]    (295,168)            False\n",
       "│    └─ReLU (11)                         [32, 256, 56, 56]    [32, 256, 56, 56]    --                   --\n",
       "│    └─Conv2d (12)                       [32, 256, 56, 56]    [32, 256, 56, 56]    (590,080)            False\n",
       "│    └─ReLU (13)                         [32, 256, 56, 56]    [32, 256, 56, 56]    --                   --\n",
       "│    └─Conv2d (14)                       [32, 256, 56, 56]    [32, 256, 56, 56]    (590,080)            False\n",
       "│    └─ReLU (15)                         [32, 256, 56, 56]    [32, 256, 56, 56]    --                   --\n",
       "│    └─MaxPool2d (16)                    [32, 256, 56, 56]    [32, 256, 28, 28]    --                   --\n",
       "│    └─Conv2d (17)                       [32, 256, 28, 28]    [32, 512, 28, 28]    (1,180,160)          False\n",
       "│    └─ReLU (18)                         [32, 512, 28, 28]    [32, 512, 28, 28]    --                   --\n",
       "│    └─Conv2d (19)                       [32, 512, 28, 28]    [32, 512, 28, 28]    (2,359,808)          False\n",
       "│    └─ReLU (20)                         [32, 512, 28, 28]    [32, 512, 28, 28]    --                   --\n",
       "│    └─Conv2d (21)                       [32, 512, 28, 28]    [32, 512, 28, 28]    (2,359,808)          False\n",
       "│    └─ReLU (22)                         [32, 512, 28, 28]    [32, 512, 28, 28]    --                   --\n",
       "│    └─MaxPool2d (23)                    [32, 512, 28, 28]    [32, 512, 14, 14]    --                   --\n",
       "│    └─Conv2d (24)                       [32, 512, 14, 14]    [32, 512, 14, 14]    (2,359,808)          False\n",
       "│    └─ReLU (25)                         [32, 512, 14, 14]    [32, 512, 14, 14]    --                   --\n",
       "│    └─Conv2d (26)                       [32, 512, 14, 14]    [32, 512, 14, 14]    (2,359,808)          False\n",
       "│    └─ReLU (27)                         [32, 512, 14, 14]    [32, 512, 14, 14]    --                   --\n",
       "│    └─Conv2d (28)                       [32, 512, 14, 14]    [32, 512, 14, 14]    (2,359,808)          False\n",
       "│    └─ReLU (29)                         [32, 512, 14, 14]    [32, 512, 14, 14]    --                   --\n",
       "│    └─MaxPool2d (30)                    [32, 512, 14, 14]    [32, 512, 7, 7]      --                   --\n",
       "├─AdaptiveAvgPool2d (avgpool)            [32, 512, 7, 7]      [32, 512, 7, 7]      --                   --\n",
       "├─Sequential (classifier)                [32, 25088]          [32, 1000]           --                   True\n",
       "│    └─Linear (0)                        [32, 25088]          [32, 4096]           102,764,544          True\n",
       "│    └─ReLU (1)                          [32, 4096]           [32, 4096]           --                   --\n",
       "│    └─Dropout (2)                       [32, 4096]           [32, 4096]           --                   --\n",
       "│    └─Linear (3)                        [32, 4096]           [32, 4096]           16,781,312           True\n",
       "│    └─ReLU (4)                          [32, 4096]           [32, 4096]           --                   --\n",
       "│    └─Dropout (5)                       [32, 4096]           [32, 4096]           --                   --\n",
       "│    └─Linear (6)                        [32, 4096]           [32, 1000]           4,097,000            True\n",
       "========================================================================================================================\n",
       "Total params: 138,357,544\n",
       "Trainable params: 123,642,856\n",
       "Non-trainable params: 14,714,688\n",
       "Total mult-adds (G): 495.48\n",
       "========================================================================================================================\n",
       "Input size (MB): 19.27\n",
       "Forward/backward pass size (MB): 3470.52\n",
       "Params size (MB): 553.43\n",
       "Estimated Total Size (MB): 4043.22\n",
       "========================================================================================================================"
      ]
     },
     "execution_count": 10,
     "metadata": {},
     "output_type": "execute_result"
    }
   ],
   "source": [
    "from torchinfo import summary\n",
    "summary(model = model,\n",
    "        input_size = (32, 3, 224, 224),\n",
    "        col_names = [\"input_size\", \"output_size\", \"num_params\", \"trainable\"],\n",
    "        col_width = 20,\n",
    "        row_settings = [\"var_names\"]\n",
    "       )"
   ]
  },
  {
   "cell_type": "code",
   "execution_count": 11,
   "id": "de4f0a26",
   "metadata": {},
   "outputs": [
    {
     "name": "stdout",
     "output_type": "stream",
     "text": [
      "Using device: mps\n"
     ]
    }
   ],
   "source": [
    "device = torch.device(\"mps\" if torch.backends.mps.is_available() else \"cpu\")\n",
    "print(\"Using device:\", device)"
   ]
  },
  {
   "cell_type": "code",
   "execution_count": 12,
   "id": "5456a0d4",
   "metadata": {},
   "outputs": [],
   "source": [
    "model.classifier[6] = nn.Linear(model.classifier[6].in_features, 4)\n",
    "model = model.to(device)\n",
    "\n",
    "# Loss and optimizer\n",
    "criterion = nn.CrossEntropyLoss()\n",
    "optimizer = optim.Adam(filter(lambda p: p.requires_grad, model.parameters()), lr=1e-4)"
   ]
  },
  {
   "cell_type": "code",
   "execution_count": 13,
   "id": "d88475cd",
   "metadata": {},
   "outputs": [],
   "source": [
    "def train(model, loader, criterion, optimizer, device):\n",
    "    model.train()\n",
    "    running_loss = 0\n",
    "    correct = 0\n",
    "    total = 0\n",
    "    for inputs, labels in loader:\n",
    "        inputs, labels = inputs.to(device), labels.to(device)\n",
    "\n",
    "        optimizer.zero_grad()\n",
    "        outputs = model(inputs)\n",
    "        loss = criterion(outputs, labels)\n",
    "        loss.backward()\n",
    "        optimizer.step()\n",
    "\n",
    "        running_loss += loss.item() * inputs.size(0)\n",
    "        _, preds = torch.max(outputs, 1)\n",
    "        correct += (preds == labels).sum().item()\n",
    "        total += labels.size(0)\n",
    "\n",
    "    epoch_loss = running_loss / total\n",
    "    epoch_acc = correct / total\n",
    "    return epoch_loss, epoch_acc\n",
    "\n",
    "# Evaluation function\n",
    "def evaluate(model, loader, criterion, device):\n",
    "    model.eval()\n",
    "    running_loss = 0\n",
    "    correct = 0\n",
    "    total = 0\n",
    "    with torch.no_grad():\n",
    "        for inputs, labels in loader:\n",
    "            inputs, labels = inputs.to(device), labels.to(device)\n",
    "            outputs = model(inputs)\n",
    "            loss = criterion(outputs, labels)\n",
    "\n",
    "            running_loss += loss.item() * inputs.size(0)\n",
    "            _, preds = torch.max(outputs, 1)\n",
    "            correct += (preds == labels).sum().item()\n",
    "            total += labels.size(0)\n",
    "\n",
    "    epoch_loss = running_loss / total\n",
    "    epoch_acc = correct / total\n",
    "    return epoch_loss, epoch_acc"
   ]
  },
  {
   "cell_type": "code",
   "execution_count": 14,
   "id": "9171cf0f",
   "metadata": {},
   "outputs": [
    {
     "name": "stdout",
     "output_type": "stream",
     "text": [
      "Epoch 1/5, Time: 3202.83s\n",
      "  Train Loss: 0.3480, Train Acc: 0.8566\n",
      "  Val Loss  : 0.2297, Val Acc  : 0.9059\n",
      "Epoch 2/5, Time: 3287.28s\n",
      "  Train Loss: 0.1453, Train Acc: 0.9462\n",
      "  Val Loss  : 0.1725, Val Acc  : 0.9303\n",
      "Epoch 3/5, Time: 3555.69s\n",
      "  Train Loss: 0.1005, Train Acc: 0.9628\n",
      "  Val Loss  : 0.1072, Val Acc  : 0.9586\n",
      "Epoch 4/5, Time: 3450.24s\n",
      "  Train Loss: 0.0798, Train Acc: 0.9712\n",
      "  Val Loss  : 0.1443, Val Acc  : 0.9466\n",
      "Epoch 5/5, Time: 3157.36s\n",
      "  Train Loss: 0.0647, Train Acc: 0.9775\n",
      "  Val Loss  : 0.1038, Val Acc  : 0.9625\n"
     ]
    }
   ],
   "source": [
    "import time\n",
    "num_epochs = 5\n",
    "\n",
    "for epoch in range(num_epochs):\n",
    "    start_time = time.time()\n",
    "\n",
    "    train_loss, train_acc = train(model, train_loader, criterion, optimizer, device)\n",
    "    val_loss, val_acc = evaluate(model, test_loader, criterion, device)\n",
    "\n",
    "    elapsed = time.time() - start_time\n",
    "    print(f\"Epoch {epoch+1}/{num_epochs}, Time: {elapsed:.2f}s\")\n",
    "    print(f\"  Train Loss: {train_loss:.4f}, Train Acc: {train_acc:.4f}\")\n",
    "    print(f\"  Val Loss  : {val_loss:.4f}, Val Acc  : {val_acc:.4f}\")"
   ]
  },
  {
   "cell_type": "code",
   "execution_count": 15,
   "id": "1199dc6c",
   "metadata": {},
   "outputs": [],
   "source": [
    "torch.save(model.state_dict(), 'vgg16_alzheimers_extraData.pth')"
   ]
  },
  {
   "cell_type": "code",
   "execution_count": null,
   "id": "bd1beea6",
   "metadata": {},
   "outputs": [],
   "source": []
  }
 ],
 "metadata": {
  "kernelspec": {
   "display_name": "Python 3",
   "language": "python",
   "name": "python3"
  },
  "language_info": {
   "codemirror_mode": {
    "name": "ipython",
    "version": 3
   },
   "file_extension": ".py",
   "mimetype": "text/x-python",
   "name": "python",
   "nbconvert_exporter": "python",
   "pygments_lexer": "ipython3",
   "version": "3.9.6"
  }
 },
 "nbformat": 4,
 "nbformat_minor": 5
}
