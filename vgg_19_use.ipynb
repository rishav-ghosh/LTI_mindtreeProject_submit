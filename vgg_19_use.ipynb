{
 "cells": [
  {
   "cell_type": "code",
   "execution_count": 5,
   "id": "208bda01",
   "metadata": {},
   "outputs": [],
   "source": [
    "from torchvision import datasets, transforms, models\n",
    "from torch.utils.data import random_split, DataLoader\n",
    "import os\n",
    "import torch\n",
    "import torch.nn as nn\n",
    "import torch.optim as optim"
   ]
  },
  {
   "cell_type": "code",
   "execution_count": 6,
   "id": "1e975a56",
   "metadata": {},
   "outputs": [],
   "source": [
    "DATA_DIR = \"/Users/rishavghosh/Desktop/python/Oasis_dataset\""
   ]
  },
  {
   "cell_type": "code",
   "execution_count": 7,
   "id": "b7acd8dc",
   "metadata": {},
   "outputs": [],
   "source": [
    "DEVICE = torch.device(\"cuda\" if torch.cuda.is_available() else\n",
    "                      (\"mps\" if torch.backends.mps.is_available() else \"cpu\"))"
   ]
  },
  {
   "cell_type": "code",
   "execution_count": 9,
   "id": "1392a7ae",
   "metadata": {},
   "outputs": [
    {
     "name": "stderr",
     "output_type": "stream",
     "text": [
      "/Users/rishavghosh/Library/Python/3.9/lib/python/site-packages/torchvision/models/_utils.py:135: UserWarning: Using 'weights' as positional parameter(s) is deprecated since 0.13 and may be removed in the future. Please use keyword parameter(s) instead.\n",
      "  warnings.warn(\n"
     ]
    },
    {
     "name": "stdout",
     "output_type": "stream",
     "text": [
      "Downloading: \"https://download.pytorch.org/models/vgg19-dcbb9e9d.pth\" to /Users/rishavghosh/.cache/torch/hub/checkpoints/vgg19-dcbb9e9d.pth\n"
     ]
    },
    {
     "name": "stderr",
     "output_type": "stream",
     "text": [
      "100%|██████████| 548M/548M [02:35<00:00, 3.69MB/s] \n"
     ]
    }
   ],
   "source": [
    "weights=models.VGG19_Weights.DEFAULT\n",
    "model = models.vgg19(weights)"
   ]
  },
  {
   "cell_type": "code",
   "execution_count": 11,
   "id": "adb1037f",
   "metadata": {},
   "outputs": [
    {
     "data": {
      "text/plain": [
       "ImageClassification(\n",
       "    crop_size=[224]\n",
       "    resize_size=[256]\n",
       "    mean=[0.485, 0.456, 0.406]\n",
       "    std=[0.229, 0.224, 0.225]\n",
       "    interpolation=InterpolationMode.BILINEAR\n",
       ")"
      ]
     },
     "execution_count": 11,
     "metadata": {},
     "output_type": "execute_result"
    }
   ],
   "source": [
    "transforms = weights.transforms()\n",
    "transforms"
   ]
  },
  {
   "cell_type": "code",
   "execution_count": 12,
   "id": "a0bed02e",
   "metadata": {},
   "outputs": [],
   "source": [
    "full_dataset = datasets.ImageFolder(DATA_DIR, transform=transforms)"
   ]
  },
  {
   "cell_type": "code",
   "execution_count": 13,
   "id": "feb65549",
   "metadata": {},
   "outputs": [
    {
     "name": "stdout",
     "output_type": "stream",
     "text": [
      "Train size: 96336\n",
      "Test size: 24085\n"
     ]
    }
   ],
   "source": [
    "from torch.utils.data import random_split, DataLoader\n",
    "train_size = int(0.8 * len(full_dataset))\n",
    "test_size = len(full_dataset) - train_size\n",
    "\n",
    "train_dataset, test_dataset = random_split(full_dataset, [train_size, test_size])\n",
    "\n",
    "print(\"Train size:\", len(train_dataset))\n",
    "print(\"Test size:\", len(test_dataset))"
   ]
  },
  {
   "cell_type": "code",
   "execution_count": 14,
   "id": "da4e6a34",
   "metadata": {},
   "outputs": [
    {
     "name": "stdout",
     "output_type": "stream",
     "text": [
      "Train class counts: {'Mild Dementia': 11180, 'Moderate Dementia': 5536, 'Non Demented': 61488, 'Very mild Dementia': 18132}\n"
     ]
    }
   ],
   "source": [
    "from torch.utils.data import WeightedRandomSampler\n",
    "import numpy as np\n",
    "import torch\n",
    "\n",
    "# Extract labels from train dataset\n",
    "train_targets = [full_dataset.samples[i][1] for i in train_dataset.indices]\n",
    "class_counts = np.bincount(train_targets)\n",
    "\n",
    "print(\"Train class counts:\", dict(zip(full_dataset.classes, class_counts)))\n",
    "\n",
    "# Compute class weights\n",
    "class_weights = 1. / torch.tensor(class_counts, dtype=torch.float)\n",
    "sample_weights = [class_weights[label] for label in train_targets]\n",
    "\n",
    "# Sampler for balanced training\n",
    "train_sampler = WeightedRandomSampler(weights=sample_weights,\n",
    "                                      num_samples=len(sample_weights),\n",
    "                                      replacement=True)\n"
   ]
  },
  {
   "cell_type": "code",
   "execution_count": 15,
   "id": "dff5a650",
   "metadata": {},
   "outputs": [],
   "source": [
    "# DataLoaders\n",
    "train_loader = DataLoader(train_dataset, batch_size=32, sampler=train_sampler)\n",
    "test_loader = DataLoader(test_dataset, batch_size=32, shuffle=False)\n"
   ]
  },
  {
   "cell_type": "code",
   "execution_count": 16,
   "id": "55b09590",
   "metadata": {},
   "outputs": [
    {
     "data": {
      "text/plain": [
       "========================================================================================================================\n",
       "Layer (type (var_name))                  Input Shape          Output Shape         Param #              Trainable\n",
       "========================================================================================================================\n",
       "VGG (VGG)                                [32, 3, 224, 224]    [32, 1000]           --                   True\n",
       "├─Sequential (features)                  [32, 3, 224, 224]    [32, 512, 7, 7]      --                   True\n",
       "│    └─Conv2d (0)                        [32, 3, 224, 224]    [32, 64, 224, 224]   1,792                True\n",
       "│    └─ReLU (1)                          [32, 64, 224, 224]   [32, 64, 224, 224]   --                   --\n",
       "│    └─Conv2d (2)                        [32, 64, 224, 224]   [32, 64, 224, 224]   36,928               True\n",
       "│    └─ReLU (3)                          [32, 64, 224, 224]   [32, 64, 224, 224]   --                   --\n",
       "│    └─MaxPool2d (4)                     [32, 64, 224, 224]   [32, 64, 112, 112]   --                   --\n",
       "│    └─Conv2d (5)                        [32, 64, 112, 112]   [32, 128, 112, 112]  73,856               True\n",
       "│    └─ReLU (6)                          [32, 128, 112, 112]  [32, 128, 112, 112]  --                   --\n",
       "│    └─Conv2d (7)                        [32, 128, 112, 112]  [32, 128, 112, 112]  147,584              True\n",
       "│    └─ReLU (8)                          [32, 128, 112, 112]  [32, 128, 112, 112]  --                   --\n",
       "│    └─MaxPool2d (9)                     [32, 128, 112, 112]  [32, 128, 56, 56]    --                   --\n",
       "│    └─Conv2d (10)                       [32, 128, 56, 56]    [32, 256, 56, 56]    295,168              True\n",
       "│    └─ReLU (11)                         [32, 256, 56, 56]    [32, 256, 56, 56]    --                   --\n",
       "│    └─Conv2d (12)                       [32, 256, 56, 56]    [32, 256, 56, 56]    590,080              True\n",
       "│    └─ReLU (13)                         [32, 256, 56, 56]    [32, 256, 56, 56]    --                   --\n",
       "│    └─Conv2d (14)                       [32, 256, 56, 56]    [32, 256, 56, 56]    590,080              True\n",
       "│    └─ReLU (15)                         [32, 256, 56, 56]    [32, 256, 56, 56]    --                   --\n",
       "│    └─Conv2d (16)                       [32, 256, 56, 56]    [32, 256, 56, 56]    590,080              True\n",
       "│    └─ReLU (17)                         [32, 256, 56, 56]    [32, 256, 56, 56]    --                   --\n",
       "│    └─MaxPool2d (18)                    [32, 256, 56, 56]    [32, 256, 28, 28]    --                   --\n",
       "│    └─Conv2d (19)                       [32, 256, 28, 28]    [32, 512, 28, 28]    1,180,160            True\n",
       "│    └─ReLU (20)                         [32, 512, 28, 28]    [32, 512, 28, 28]    --                   --\n",
       "│    └─Conv2d (21)                       [32, 512, 28, 28]    [32, 512, 28, 28]    2,359,808            True\n",
       "│    └─ReLU (22)                         [32, 512, 28, 28]    [32, 512, 28, 28]    --                   --\n",
       "│    └─Conv2d (23)                       [32, 512, 28, 28]    [32, 512, 28, 28]    2,359,808            True\n",
       "│    └─ReLU (24)                         [32, 512, 28, 28]    [32, 512, 28, 28]    --                   --\n",
       "│    └─Conv2d (25)                       [32, 512, 28, 28]    [32, 512, 28, 28]    2,359,808            True\n",
       "│    └─ReLU (26)                         [32, 512, 28, 28]    [32, 512, 28, 28]    --                   --\n",
       "│    └─MaxPool2d (27)                    [32, 512, 28, 28]    [32, 512, 14, 14]    --                   --\n",
       "│    └─Conv2d (28)                       [32, 512, 14, 14]    [32, 512, 14, 14]    2,359,808            True\n",
       "│    └─ReLU (29)                         [32, 512, 14, 14]    [32, 512, 14, 14]    --                   --\n",
       "│    └─Conv2d (30)                       [32, 512, 14, 14]    [32, 512, 14, 14]    2,359,808            True\n",
       "│    └─ReLU (31)                         [32, 512, 14, 14]    [32, 512, 14, 14]    --                   --\n",
       "│    └─Conv2d (32)                       [32, 512, 14, 14]    [32, 512, 14, 14]    2,359,808            True\n",
       "│    └─ReLU (33)                         [32, 512, 14, 14]    [32, 512, 14, 14]    --                   --\n",
       "│    └─Conv2d (34)                       [32, 512, 14, 14]    [32, 512, 14, 14]    2,359,808            True\n",
       "│    └─ReLU (35)                         [32, 512, 14, 14]    [32, 512, 14, 14]    --                   --\n",
       "│    └─MaxPool2d (36)                    [32, 512, 14, 14]    [32, 512, 7, 7]      --                   --\n",
       "├─AdaptiveAvgPool2d (avgpool)            [32, 512, 7, 7]      [32, 512, 7, 7]      --                   --\n",
       "├─Sequential (classifier)                [32, 25088]          [32, 1000]           --                   True\n",
       "│    └─Linear (0)                        [32, 25088]          [32, 4096]           102,764,544          True\n",
       "│    └─ReLU (1)                          [32, 4096]           [32, 4096]           --                   --\n",
       "│    └─Dropout (2)                       [32, 4096]           [32, 4096]           --                   --\n",
       "│    └─Linear (3)                        [32, 4096]           [32, 4096]           16,781,312           True\n",
       "│    └─ReLU (4)                          [32, 4096]           [32, 4096]           --                   --\n",
       "│    └─Dropout (5)                       [32, 4096]           [32, 4096]           --                   --\n",
       "│    └─Linear (6)                        [32, 4096]           [32, 1000]           4,097,000            True\n",
       "========================================================================================================================\n",
       "Total params: 143,667,240\n",
       "Trainable params: 143,667,240\n",
       "Non-trainable params: 0\n",
       "Total mult-adds (G): 628.70\n",
       "========================================================================================================================\n",
       "Input size (MB): 19.27\n",
       "Forward/backward pass size (MB): 3804.49\n",
       "Params size (MB): 574.67\n",
       "Estimated Total Size (MB): 4398.43\n",
       "========================================================================================================================"
      ]
     },
     "execution_count": 16,
     "metadata": {},
     "output_type": "execute_result"
    }
   ],
   "source": [
    "from torchinfo import summary\n",
    "summary(model = model,\n",
    "        input_size = (32, 3, 224, 224),\n",
    "        col_names = [\"input_size\", \"output_size\", \"num_params\", \"trainable\"],\n",
    "        col_width = 20,\n",
    "        row_settings = [\"var_names\"]\n",
    "       )"
   ]
  },
  {
   "cell_type": "code",
   "execution_count": 21,
   "id": "dfdde99d",
   "metadata": {},
   "outputs": [],
   "source": [
    "model.classifier[6] = nn.Linear(model.classifier[6].in_features, 4)\n",
    "model = model.to(DEVICE)\n",
    "\n",
    "# Loss and optimizer\n",
    "criterion = nn.CrossEntropyLoss()\n",
    "optimizer = optim.Adam(filter(lambda p: p.requires_grad, model.parameters()), lr=1e-4)"
   ]
  },
  {
   "cell_type": "code",
   "execution_count": 22,
   "id": "603ace81",
   "metadata": {},
   "outputs": [
    {
     "data": {
      "text/plain": [
       "========================================================================================================================\n",
       "Layer (type (var_name))                  Input Shape          Output Shape         Param #              Trainable\n",
       "========================================================================================================================\n",
       "VGG (VGG)                                [32, 3, 224, 224]    [32, 4]              --                   True\n",
       "├─Sequential (features)                  [32, 3, 224, 224]    [32, 512, 7, 7]      --                   True\n",
       "│    └─Conv2d (0)                        [32, 3, 224, 224]    [32, 64, 224, 224]   1,792                True\n",
       "│    └─ReLU (1)                          [32, 64, 224, 224]   [32, 64, 224, 224]   --                   --\n",
       "│    └─Conv2d (2)                        [32, 64, 224, 224]   [32, 64, 224, 224]   36,928               True\n",
       "│    └─ReLU (3)                          [32, 64, 224, 224]   [32, 64, 224, 224]   --                   --\n",
       "│    └─MaxPool2d (4)                     [32, 64, 224, 224]   [32, 64, 112, 112]   --                   --\n",
       "│    └─Conv2d (5)                        [32, 64, 112, 112]   [32, 128, 112, 112]  73,856               True\n",
       "│    └─ReLU (6)                          [32, 128, 112, 112]  [32, 128, 112, 112]  --                   --\n",
       "│    └─Conv2d (7)                        [32, 128, 112, 112]  [32, 128, 112, 112]  147,584              True\n",
       "│    └─ReLU (8)                          [32, 128, 112, 112]  [32, 128, 112, 112]  --                   --\n",
       "│    └─MaxPool2d (9)                     [32, 128, 112, 112]  [32, 128, 56, 56]    --                   --\n",
       "│    └─Conv2d (10)                       [32, 128, 56, 56]    [32, 256, 56, 56]    295,168              True\n",
       "│    └─ReLU (11)                         [32, 256, 56, 56]    [32, 256, 56, 56]    --                   --\n",
       "│    └─Conv2d (12)                       [32, 256, 56, 56]    [32, 256, 56, 56]    590,080              True\n",
       "│    └─ReLU (13)                         [32, 256, 56, 56]    [32, 256, 56, 56]    --                   --\n",
       "│    └─Conv2d (14)                       [32, 256, 56, 56]    [32, 256, 56, 56]    590,080              True\n",
       "│    └─ReLU (15)                         [32, 256, 56, 56]    [32, 256, 56, 56]    --                   --\n",
       "│    └─Conv2d (16)                       [32, 256, 56, 56]    [32, 256, 56, 56]    590,080              True\n",
       "│    └─ReLU (17)                         [32, 256, 56, 56]    [32, 256, 56, 56]    --                   --\n",
       "│    └─MaxPool2d (18)                    [32, 256, 56, 56]    [32, 256, 28, 28]    --                   --\n",
       "│    └─Conv2d (19)                       [32, 256, 28, 28]    [32, 512, 28, 28]    1,180,160            True\n",
       "│    └─ReLU (20)                         [32, 512, 28, 28]    [32, 512, 28, 28]    --                   --\n",
       "│    └─Conv2d (21)                       [32, 512, 28, 28]    [32, 512, 28, 28]    2,359,808            True\n",
       "│    └─ReLU (22)                         [32, 512, 28, 28]    [32, 512, 28, 28]    --                   --\n",
       "│    └─Conv2d (23)                       [32, 512, 28, 28]    [32, 512, 28, 28]    2,359,808            True\n",
       "│    └─ReLU (24)                         [32, 512, 28, 28]    [32, 512, 28, 28]    --                   --\n",
       "│    └─Conv2d (25)                       [32, 512, 28, 28]    [32, 512, 28, 28]    2,359,808            True\n",
       "│    └─ReLU (26)                         [32, 512, 28, 28]    [32, 512, 28, 28]    --                   --\n",
       "│    └─MaxPool2d (27)                    [32, 512, 28, 28]    [32, 512, 14, 14]    --                   --\n",
       "│    └─Conv2d (28)                       [32, 512, 14, 14]    [32, 512, 14, 14]    2,359,808            True\n",
       "│    └─ReLU (29)                         [32, 512, 14, 14]    [32, 512, 14, 14]    --                   --\n",
       "│    └─Conv2d (30)                       [32, 512, 14, 14]    [32, 512, 14, 14]    2,359,808            True\n",
       "│    └─ReLU (31)                         [32, 512, 14, 14]    [32, 512, 14, 14]    --                   --\n",
       "│    └─Conv2d (32)                       [32, 512, 14, 14]    [32, 512, 14, 14]    2,359,808            True\n",
       "│    └─ReLU (33)                         [32, 512, 14, 14]    [32, 512, 14, 14]    --                   --\n",
       "│    └─Conv2d (34)                       [32, 512, 14, 14]    [32, 512, 14, 14]    2,359,808            True\n",
       "│    └─ReLU (35)                         [32, 512, 14, 14]    [32, 512, 14, 14]    --                   --\n",
       "│    └─MaxPool2d (36)                    [32, 512, 14, 14]    [32, 512, 7, 7]      --                   --\n",
       "├─AdaptiveAvgPool2d (avgpool)            [32, 512, 7, 7]      [32, 512, 7, 7]      --                   --\n",
       "├─Sequential (classifier)                [32, 25088]          [32, 4]              --                   True\n",
       "│    └─Linear (0)                        [32, 25088]          [32, 4096]           102,764,544          True\n",
       "│    └─ReLU (1)                          [32, 4096]           [32, 4096]           --                   --\n",
       "│    └─Dropout (2)                       [32, 4096]           [32, 4096]           --                   --\n",
       "│    └─Linear (3)                        [32, 4096]           [32, 4096]           16,781,312           True\n",
       "│    └─ReLU (4)                          [32, 4096]           [32, 4096]           --                   --\n",
       "│    └─Dropout (5)                       [32, 4096]           [32, 4096]           --                   --\n",
       "│    └─Linear (6)                        [32, 4096]           [32, 4]              16,388               True\n",
       "========================================================================================================================\n",
       "Total params: 139,586,628\n",
       "Trainable params: 139,586,628\n",
       "Non-trainable params: 0\n",
       "Total mult-adds (G): 628.57\n",
       "========================================================================================================================\n",
       "Input size (MB): 19.27\n",
       "Forward/backward pass size (MB): 3804.23\n",
       "Params size (MB): 558.35\n",
       "Estimated Total Size (MB): 4381.85\n",
       "========================================================================================================================"
      ]
     },
     "execution_count": 22,
     "metadata": {},
     "output_type": "execute_result"
    }
   ],
   "source": [
    "from torchinfo import summary\n",
    "summary(model = model,\n",
    "        input_size = (32, 3, 224, 224),\n",
    "        col_names = [\"input_size\", \"output_size\", \"num_params\", \"trainable\"],\n",
    "        col_width = 20,\n",
    "        row_settings = [\"var_names\"]\n",
    "       )"
   ]
  },
  {
   "cell_type": "code",
   "execution_count": 23,
   "id": "5cae9954",
   "metadata": {},
   "outputs": [],
   "source": [
    "for param in model.features.parameters():\n",
    "    param.requires_grad = False"
   ]
  },
  {
   "cell_type": "code",
   "execution_count": 26,
   "id": "f7c94e5d",
   "metadata": {},
   "outputs": [
    {
     "data": {
      "text/plain": [
       "VGG(\n",
       "  (features): Sequential(\n",
       "    (0): Conv2d(3, 64, kernel_size=(3, 3), stride=(1, 1), padding=(1, 1))\n",
       "    (1): ReLU(inplace=True)\n",
       "    (2): Conv2d(64, 64, kernel_size=(3, 3), stride=(1, 1), padding=(1, 1))\n",
       "    (3): ReLU(inplace=True)\n",
       "    (4): MaxPool2d(kernel_size=2, stride=2, padding=0, dilation=1, ceil_mode=False)\n",
       "    (5): Conv2d(64, 128, kernel_size=(3, 3), stride=(1, 1), padding=(1, 1))\n",
       "    (6): ReLU(inplace=True)\n",
       "    (7): Conv2d(128, 128, kernel_size=(3, 3), stride=(1, 1), padding=(1, 1))\n",
       "    (8): ReLU(inplace=True)\n",
       "    (9): MaxPool2d(kernel_size=2, stride=2, padding=0, dilation=1, ceil_mode=False)\n",
       "    (10): Conv2d(128, 256, kernel_size=(3, 3), stride=(1, 1), padding=(1, 1))\n",
       "    (11): ReLU(inplace=True)\n",
       "    (12): Conv2d(256, 256, kernel_size=(3, 3), stride=(1, 1), padding=(1, 1))\n",
       "    (13): ReLU(inplace=True)\n",
       "    (14): Conv2d(256, 256, kernel_size=(3, 3), stride=(1, 1), padding=(1, 1))\n",
       "    (15): ReLU(inplace=True)\n",
       "    (16): Conv2d(256, 256, kernel_size=(3, 3), stride=(1, 1), padding=(1, 1))\n",
       "    (17): ReLU(inplace=True)\n",
       "    (18): MaxPool2d(kernel_size=2, stride=2, padding=0, dilation=1, ceil_mode=False)\n",
       "    (19): Conv2d(256, 512, kernel_size=(3, 3), stride=(1, 1), padding=(1, 1))\n",
       "    (20): ReLU(inplace=True)\n",
       "    (21): Conv2d(512, 512, kernel_size=(3, 3), stride=(1, 1), padding=(1, 1))\n",
       "    (22): ReLU(inplace=True)\n",
       "    (23): Conv2d(512, 512, kernel_size=(3, 3), stride=(1, 1), padding=(1, 1))\n",
       "    (24): ReLU(inplace=True)\n",
       "    (25): Conv2d(512, 512, kernel_size=(3, 3), stride=(1, 1), padding=(1, 1))\n",
       "    (26): ReLU(inplace=True)\n",
       "    (27): MaxPool2d(kernel_size=2, stride=2, padding=0, dilation=1, ceil_mode=False)\n",
       "    (28): Conv2d(512, 512, kernel_size=(3, 3), stride=(1, 1), padding=(1, 1))\n",
       "    (29): ReLU(inplace=True)\n",
       "    (30): Conv2d(512, 512, kernel_size=(3, 3), stride=(1, 1), padding=(1, 1))\n",
       "    (31): ReLU(inplace=True)\n",
       "    (32): Conv2d(512, 512, kernel_size=(3, 3), stride=(1, 1), padding=(1, 1))\n",
       "    (33): ReLU(inplace=True)\n",
       "    (34): Conv2d(512, 512, kernel_size=(3, 3), stride=(1, 1), padding=(1, 1))\n",
       "    (35): ReLU(inplace=True)\n",
       "    (36): MaxPool2d(kernel_size=2, stride=2, padding=0, dilation=1, ceil_mode=False)\n",
       "  )\n",
       "  (avgpool): AdaptiveAvgPool2d(output_size=(7, 7))\n",
       "  (classifier): Sequential(\n",
       "    (0): Linear(in_features=25088, out_features=4096, bias=True)\n",
       "    (1): ReLU(inplace=True)\n",
       "    (2): Dropout(p=0.5, inplace=False)\n",
       "    (3): Linear(in_features=4096, out_features=4096, bias=True)\n",
       "    (4): ReLU(inplace=True)\n",
       "    (5): Dropout(p=0.5, inplace=False)\n",
       "    (6): Linear(in_features=4096, out_features=4, bias=True)\n",
       "  )\n",
       ")"
      ]
     },
     "execution_count": 26,
     "metadata": {},
     "output_type": "execute_result"
    }
   ],
   "source": [
    "model.to(DEVICE)"
   ]
  },
  {
   "cell_type": "code",
   "execution_count": 27,
   "id": "cc21dce6",
   "metadata": {},
   "outputs": [],
   "source": [
    "def train(model, loader, criterion, optimizer, device):\n",
    "    model.train()\n",
    "    running_loss = 0\n",
    "    correct = 0\n",
    "    total = 0\n",
    "    for inputs, labels in loader:\n",
    "        inputs, labels = inputs.to(device), labels.to(device)\n",
    "\n",
    "        optimizer.zero_grad()\n",
    "        outputs = model(inputs)\n",
    "        loss = criterion(outputs, labels)\n",
    "        loss.backward()\n",
    "        optimizer.step()\n",
    "\n",
    "        running_loss += loss.item() * inputs.size(0)\n",
    "        _, preds = torch.max(outputs, 1)\n",
    "        correct += (preds == labels).sum().item()\n",
    "        total += labels.size(0)\n",
    "\n",
    "    epoch_loss = running_loss / total\n",
    "    epoch_acc = correct / total\n",
    "    return epoch_loss, epoch_acc\n",
    "\n",
    "# Evaluation function\n",
    "def evaluate(model, loader, criterion, device):\n",
    "    model.eval()\n",
    "    running_loss = 0\n",
    "    correct = 0\n",
    "    total = 0\n",
    "    with torch.no_grad():\n",
    "        for inputs, labels in loader:\n",
    "            inputs, labels = inputs.to(device), labels.to(device)\n",
    "            outputs = model(inputs)\n",
    "            loss = criterion(outputs, labels)\n",
    "\n",
    "            running_loss += loss.item() * inputs.size(0)\n",
    "            _, preds = torch.max(outputs, 1)\n",
    "            correct += (preds == labels).sum().item()\n",
    "            total += labels.size(0)\n",
    "\n",
    "    epoch_loss = running_loss / total\n",
    "    epoch_acc = correct / total\n",
    "    return epoch_loss, epoch_acc"
   ]
  },
  {
   "cell_type": "code",
   "execution_count": 28,
   "id": "fbb1bad1",
   "metadata": {},
   "outputs": [
    {
     "name": "stdout",
     "output_type": "stream",
     "text": [
      "Epoch 1/5, Time: 3667.68s\n",
      "  Train Loss: 0.3882, Train Acc: 0.8404\n",
      "  Val Loss  : 0.2416, Val Acc  : 0.8979\n",
      "Epoch 2/5, Time: 4756.01s\n",
      "  Train Loss: 0.1766, Train Acc: 0.9332\n",
      "  Val Loss  : 0.1581, Val Acc  : 0.9369\n",
      "Epoch 3/5, Time: 6194.15s\n",
      "  Train Loss: 0.1229, Train Acc: 0.9548\n",
      "  Val Loss  : 0.1345, Val Acc  : 0.9442\n",
      "Epoch 4/5, Time: 4923.95s\n",
      "  Train Loss: 0.0990, Train Acc: 0.9640\n",
      "  Val Loss  : 0.1231, Val Acc  : 0.9524\n",
      "Epoch 5/5, Time: 5162.70s\n",
      "  Train Loss: 0.0834, Train Acc: 0.9696\n",
      "  Val Loss  : 0.1172, Val Acc  : 0.9568\n"
     ]
    }
   ],
   "source": [
    "import time\n",
    "num_epochs = 5\n",
    "\n",
    "for epoch in range(num_epochs):\n",
    "    start_time = time.time()\n",
    "\n",
    "    train_loss, train_acc = train(model, train_loader, criterion, optimizer, DEVICE)\n",
    "    val_loss, val_acc = evaluate(model, test_loader, criterion, DEVICE)\n",
    "\n",
    "    elapsed = time.time() - start_time\n",
    "    print(f\"Epoch {epoch+1}/{num_epochs}, Time: {elapsed:.2f}s\")\n",
    "    print(f\"  Train Loss: {train_loss:.4f}, Train Acc: {train_acc:.4f}\")\n",
    "    print(f\"  Val Loss  : {val_loss:.4f}, Val Acc  : {val_acc:.4f}\")"
   ]
  },
  {
   "cell_type": "code",
   "execution_count": 29,
   "id": "c095cf4a",
   "metadata": {},
   "outputs": [],
   "source": [
    "torch.save(model.state_dict(), 'vgg19_alzheimers_extraData.pth')"
   ]
  },
  {
   "cell_type": "code",
   "execution_count": null,
   "id": "17efff39",
   "metadata": {},
   "outputs": [],
   "source": []
  }
 ],
 "metadata": {
  "kernelspec": {
   "display_name": "Python 3",
   "language": "python",
   "name": "python3"
  },
  "language_info": {
   "codemirror_mode": {
    "name": "ipython",
    "version": 3
   },
   "file_extension": ".py",
   "mimetype": "text/x-python",
   "name": "python",
   "nbconvert_exporter": "python",
   "pygments_lexer": "ipython3",
   "version": "3.9.6"
  }
 },
 "nbformat": 4,
 "nbformat_minor": 5
}
