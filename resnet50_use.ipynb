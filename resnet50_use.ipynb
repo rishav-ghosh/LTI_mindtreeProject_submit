{
 "cells": [
  {
   "cell_type": "code",
   "execution_count": 1,
   "id": "f922a850",
   "metadata": {},
   "outputs": [],
   "source": [
    "import os, time, torch, torch.nn as nn, torch.optim as optim\n",
    "from torch.utils.data import DataLoader\n",
    "from torchvision import datasets, models\n",
    "from sklearn.metrics import accuracy_score, confusion_matrix, classification_report\n",
    "import numpy as np\n",
    "import seaborn as sns\n",
    "import matplotlib.pyplot as plt"
   ]
  },
  {
   "cell_type": "code",
   "execution_count": 2,
   "id": "5e60d025",
   "metadata": {},
   "outputs": [],
   "source": [
    "DATA_DIR = \"/Users/rishavghosh/Desktop/python/Oasis_dataset\""
   ]
  },
  {
   "cell_type": "code",
   "execution_count": 3,
   "id": "d29c86a9",
   "metadata": {},
   "outputs": [],
   "source": [
    "DEVICE = torch.device(\"cuda\" if torch.cuda.is_available() else\n",
    "                      (\"mps\" if torch.backends.mps.is_available() else \"cpu\"))"
   ]
  },
  {
   "cell_type": "code",
   "execution_count": 4,
   "id": "ab53d745",
   "metadata": {},
   "outputs": [
    {
     "data": {
      "text/plain": [
       "device(type='mps')"
      ]
     },
     "execution_count": 4,
     "metadata": {},
     "output_type": "execute_result"
    }
   ],
   "source": [
    "DEVICE"
   ]
  },
  {
   "cell_type": "code",
   "execution_count": 5,
   "id": "5fb6678f",
   "metadata": {},
   "outputs": [],
   "source": [
    "weights = models.ResNet50_Weights.DEFAULT\n",
    "model = models.resnet50(weights=weights)\n",
    "in_feats = model.fc.in_features\n",
    "model.fc = nn.Linear(in_feats, 4)"
   ]
  },
  {
   "cell_type": "code",
   "execution_count": 6,
   "id": "ac917433",
   "metadata": {},
   "outputs": [
    {
     "data": {
      "text/plain": [
       "ImageClassification(\n",
       "    crop_size=[224]\n",
       "    resize_size=[232]\n",
       "    mean=[0.485, 0.456, 0.406]\n",
       "    std=[0.229, 0.224, 0.225]\n",
       "    interpolation=InterpolationMode.BILINEAR\n",
       ")"
      ]
     },
     "execution_count": 6,
     "metadata": {},
     "output_type": "execute_result"
    }
   ],
   "source": [
    "transform = weights.transforms()\n",
    "transform"
   ]
  },
  {
   "cell_type": "code",
   "execution_count": 7,
   "id": "d830d21d",
   "metadata": {},
   "outputs": [
    {
     "name": "stdout",
     "output_type": "stream",
     "text": [
      "Classes: ['Mild Dementia', 'Moderate Dementia', 'Non Demented', 'Very mild Dementia']\n"
     ]
    }
   ],
   "source": [
    "full_dataset = datasets.ImageFolder(DATA_DIR, transform=transform)\n",
    "print(\"Classes:\", full_dataset.classes)"
   ]
  },
  {
   "cell_type": "code",
   "execution_count": 8,
   "id": "d9c756ab",
   "metadata": {},
   "outputs": [
    {
     "name": "stdout",
     "output_type": "stream",
     "text": [
      "Train size: 96336\n",
      "Test size: 24085\n"
     ]
    }
   ],
   "source": [
    "from torch.utils.data import random_split, DataLoader\n",
    "train_size = int(0.8 * len(full_dataset))\n",
    "test_size = len(full_dataset) - train_size\n",
    "\n",
    "train_dataset, test_dataset = random_split(full_dataset, [train_size, test_size])\n",
    "\n",
    "print(\"Train size:\", len(train_dataset))\n",
    "print(\"Test size:\", len(test_dataset))"
   ]
  },
  {
   "cell_type": "code",
   "execution_count": 9,
   "id": "02d41619",
   "metadata": {},
   "outputs": [
    {
     "name": "stdout",
     "output_type": "stream",
     "text": [
      "Train class counts: {'Mild Dementia': 11090, 'Moderate Dementia': 5514, 'Non Demented': 61554, 'Very mild Dementia': 18178}\n"
     ]
    }
   ],
   "source": [
    "from torch.utils.data import WeightedRandomSampler\n",
    "import numpy as np\n",
    "import torch\n",
    "\n",
    "# Extract labels from train dataset\n",
    "train_targets = [full_dataset.samples[i][1] for i in train_dataset.indices]\n",
    "class_counts = np.bincount(train_targets)\n",
    "\n",
    "print(\"Train class counts:\", dict(zip(full_dataset.classes, class_counts)))\n",
    "\n",
    "# Compute class weights\n",
    "class_weights = 1. / torch.tensor(class_counts, dtype=torch.float)\n",
    "sample_weights = [class_weights[label] for label in train_targets]\n",
    "\n",
    "# Sampler for balanced training\n",
    "train_sampler = WeightedRandomSampler(weights=sample_weights,\n",
    "                                      num_samples=len(sample_weights),\n",
    "                                      replacement=True)\n"
   ]
  },
  {
   "cell_type": "code",
   "execution_count": 10,
   "id": "5f0b6804",
   "metadata": {},
   "outputs": [],
   "source": [
    "# DataLoaders\n",
    "train_loader = DataLoader(train_dataset, batch_size=32, sampler=train_sampler)\n",
    "test_loader = DataLoader(test_dataset, batch_size=32, shuffle=False)\n"
   ]
  },
  {
   "cell_type": "code",
   "execution_count": 11,
   "id": "3dd1f06a",
   "metadata": {},
   "outputs": [
    {
     "data": {
      "text/plain": [
       "========================================================================================================================\n",
       "Layer (type (var_name))                  Input Shape          Output Shape         Param #              Trainable\n",
       "========================================================================================================================\n",
       "ResNet (ResNet)                          [32, 3, 224, 224]    [32, 4]              --                   True\n",
       "├─Conv2d (conv1)                         [32, 3, 224, 224]    [32, 64, 112, 112]   9,408                True\n",
       "├─BatchNorm2d (bn1)                      [32, 64, 112, 112]   [32, 64, 112, 112]   128                  True\n",
       "├─ReLU (relu)                            [32, 64, 112, 112]   [32, 64, 112, 112]   --                   --\n",
       "├─MaxPool2d (maxpool)                    [32, 64, 112, 112]   [32, 64, 56, 56]     --                   --\n",
       "├─Sequential (layer1)                    [32, 64, 56, 56]     [32, 256, 56, 56]    --                   True\n",
       "│    └─Bottleneck (0)                    [32, 64, 56, 56]     [32, 256, 56, 56]    --                   True\n",
       "│    │    └─Conv2d (conv1)               [32, 64, 56, 56]     [32, 64, 56, 56]     4,096                True\n",
       "│    │    └─BatchNorm2d (bn1)            [32, 64, 56, 56]     [32, 64, 56, 56]     128                  True\n",
       "│    │    └─ReLU (relu)                  [32, 64, 56, 56]     [32, 64, 56, 56]     --                   --\n",
       "│    │    └─Conv2d (conv2)               [32, 64, 56, 56]     [32, 64, 56, 56]     36,864               True\n",
       "│    │    └─BatchNorm2d (bn2)            [32, 64, 56, 56]     [32, 64, 56, 56]     128                  True\n",
       "│    │    └─ReLU (relu)                  [32, 64, 56, 56]     [32, 64, 56, 56]     --                   --\n",
       "│    │    └─Conv2d (conv3)               [32, 64, 56, 56]     [32, 256, 56, 56]    16,384               True\n",
       "│    │    └─BatchNorm2d (bn3)            [32, 256, 56, 56]    [32, 256, 56, 56]    512                  True\n",
       "│    │    └─Sequential (downsample)      [32, 64, 56, 56]     [32, 256, 56, 56]    16,896               True\n",
       "│    │    └─ReLU (relu)                  [32, 256, 56, 56]    [32, 256, 56, 56]    --                   --\n",
       "│    └─Bottleneck (1)                    [32, 256, 56, 56]    [32, 256, 56, 56]    --                   True\n",
       "│    │    └─Conv2d (conv1)               [32, 256, 56, 56]    [32, 64, 56, 56]     16,384               True\n",
       "│    │    └─BatchNorm2d (bn1)            [32, 64, 56, 56]     [32, 64, 56, 56]     128                  True\n",
       "│    │    └─ReLU (relu)                  [32, 64, 56, 56]     [32, 64, 56, 56]     --                   --\n",
       "│    │    └─Conv2d (conv2)               [32, 64, 56, 56]     [32, 64, 56, 56]     36,864               True\n",
       "│    │    └─BatchNorm2d (bn2)            [32, 64, 56, 56]     [32, 64, 56, 56]     128                  True\n",
       "│    │    └─ReLU (relu)                  [32, 64, 56, 56]     [32, 64, 56, 56]     --                   --\n",
       "│    │    └─Conv2d (conv3)               [32, 64, 56, 56]     [32, 256, 56, 56]    16,384               True\n",
       "│    │    └─BatchNorm2d (bn3)            [32, 256, 56, 56]    [32, 256, 56, 56]    512                  True\n",
       "│    │    └─ReLU (relu)                  [32, 256, 56, 56]    [32, 256, 56, 56]    --                   --\n",
       "│    └─Bottleneck (2)                    [32, 256, 56, 56]    [32, 256, 56, 56]    --                   True\n",
       "│    │    └─Conv2d (conv1)               [32, 256, 56, 56]    [32, 64, 56, 56]     16,384               True\n",
       "│    │    └─BatchNorm2d (bn1)            [32, 64, 56, 56]     [32, 64, 56, 56]     128                  True\n",
       "│    │    └─ReLU (relu)                  [32, 64, 56, 56]     [32, 64, 56, 56]     --                   --\n",
       "│    │    └─Conv2d (conv2)               [32, 64, 56, 56]     [32, 64, 56, 56]     36,864               True\n",
       "│    │    └─BatchNorm2d (bn2)            [32, 64, 56, 56]     [32, 64, 56, 56]     128                  True\n",
       "│    │    └─ReLU (relu)                  [32, 64, 56, 56]     [32, 64, 56, 56]     --                   --\n",
       "│    │    └─Conv2d (conv3)               [32, 64, 56, 56]     [32, 256, 56, 56]    16,384               True\n",
       "│    │    └─BatchNorm2d (bn3)            [32, 256, 56, 56]    [32, 256, 56, 56]    512                  True\n",
       "│    │    └─ReLU (relu)                  [32, 256, 56, 56]    [32, 256, 56, 56]    --                   --\n",
       "├─Sequential (layer2)                    [32, 256, 56, 56]    [32, 512, 28, 28]    --                   True\n",
       "│    └─Bottleneck (0)                    [32, 256, 56, 56]    [32, 512, 28, 28]    --                   True\n",
       "│    │    └─Conv2d (conv1)               [32, 256, 56, 56]    [32, 128, 56, 56]    32,768               True\n",
       "│    │    └─BatchNorm2d (bn1)            [32, 128, 56, 56]    [32, 128, 56, 56]    256                  True\n",
       "│    │    └─ReLU (relu)                  [32, 128, 56, 56]    [32, 128, 56, 56]    --                   --\n",
       "│    │    └─Conv2d (conv2)               [32, 128, 56, 56]    [32, 128, 28, 28]    147,456              True\n",
       "│    │    └─BatchNorm2d (bn2)            [32, 128, 28, 28]    [32, 128, 28, 28]    256                  True\n",
       "│    │    └─ReLU (relu)                  [32, 128, 28, 28]    [32, 128, 28, 28]    --                   --\n",
       "│    │    └─Conv2d (conv3)               [32, 128, 28, 28]    [32, 512, 28, 28]    65,536               True\n",
       "│    │    └─BatchNorm2d (bn3)            [32, 512, 28, 28]    [32, 512, 28, 28]    1,024                True\n",
       "│    │    └─Sequential (downsample)      [32, 256, 56, 56]    [32, 512, 28, 28]    132,096              True\n",
       "│    │    └─ReLU (relu)                  [32, 512, 28, 28]    [32, 512, 28, 28]    --                   --\n",
       "│    └─Bottleneck (1)                    [32, 512, 28, 28]    [32, 512, 28, 28]    --                   True\n",
       "│    │    └─Conv2d (conv1)               [32, 512, 28, 28]    [32, 128, 28, 28]    65,536               True\n",
       "│    │    └─BatchNorm2d (bn1)            [32, 128, 28, 28]    [32, 128, 28, 28]    256                  True\n",
       "│    │    └─ReLU (relu)                  [32, 128, 28, 28]    [32, 128, 28, 28]    --                   --\n",
       "│    │    └─Conv2d (conv2)               [32, 128, 28, 28]    [32, 128, 28, 28]    147,456              True\n",
       "│    │    └─BatchNorm2d (bn2)            [32, 128, 28, 28]    [32, 128, 28, 28]    256                  True\n",
       "│    │    └─ReLU (relu)                  [32, 128, 28, 28]    [32, 128, 28, 28]    --                   --\n",
       "│    │    └─Conv2d (conv3)               [32, 128, 28, 28]    [32, 512, 28, 28]    65,536               True\n",
       "│    │    └─BatchNorm2d (bn3)            [32, 512, 28, 28]    [32, 512, 28, 28]    1,024                True\n",
       "│    │    └─ReLU (relu)                  [32, 512, 28, 28]    [32, 512, 28, 28]    --                   --\n",
       "│    └─Bottleneck (2)                    [32, 512, 28, 28]    [32, 512, 28, 28]    --                   True\n",
       "│    │    └─Conv2d (conv1)               [32, 512, 28, 28]    [32, 128, 28, 28]    65,536               True\n",
       "│    │    └─BatchNorm2d (bn1)            [32, 128, 28, 28]    [32, 128, 28, 28]    256                  True\n",
       "│    │    └─ReLU (relu)                  [32, 128, 28, 28]    [32, 128, 28, 28]    --                   --\n",
       "│    │    └─Conv2d (conv2)               [32, 128, 28, 28]    [32, 128, 28, 28]    147,456              True\n",
       "│    │    └─BatchNorm2d (bn2)            [32, 128, 28, 28]    [32, 128, 28, 28]    256                  True\n",
       "│    │    └─ReLU (relu)                  [32, 128, 28, 28]    [32, 128, 28, 28]    --                   --\n",
       "│    │    └─Conv2d (conv3)               [32, 128, 28, 28]    [32, 512, 28, 28]    65,536               True\n",
       "│    │    └─BatchNorm2d (bn3)            [32, 512, 28, 28]    [32, 512, 28, 28]    1,024                True\n",
       "│    │    └─ReLU (relu)                  [32, 512, 28, 28]    [32, 512, 28, 28]    --                   --\n",
       "│    └─Bottleneck (3)                    [32, 512, 28, 28]    [32, 512, 28, 28]    --                   True\n",
       "│    │    └─Conv2d (conv1)               [32, 512, 28, 28]    [32, 128, 28, 28]    65,536               True\n",
       "│    │    └─BatchNorm2d (bn1)            [32, 128, 28, 28]    [32, 128, 28, 28]    256                  True\n",
       "│    │    └─ReLU (relu)                  [32, 128, 28, 28]    [32, 128, 28, 28]    --                   --\n",
       "│    │    └─Conv2d (conv2)               [32, 128, 28, 28]    [32, 128, 28, 28]    147,456              True\n",
       "│    │    └─BatchNorm2d (bn2)            [32, 128, 28, 28]    [32, 128, 28, 28]    256                  True\n",
       "│    │    └─ReLU (relu)                  [32, 128, 28, 28]    [32, 128, 28, 28]    --                   --\n",
       "│    │    └─Conv2d (conv3)               [32, 128, 28, 28]    [32, 512, 28, 28]    65,536               True\n",
       "│    │    └─BatchNorm2d (bn3)            [32, 512, 28, 28]    [32, 512, 28, 28]    1,024                True\n",
       "│    │    └─ReLU (relu)                  [32, 512, 28, 28]    [32, 512, 28, 28]    --                   --\n",
       "├─Sequential (layer3)                    [32, 512, 28, 28]    [32, 1024, 14, 14]   --                   True\n",
       "│    └─Bottleneck (0)                    [32, 512, 28, 28]    [32, 1024, 14, 14]   --                   True\n",
       "│    │    └─Conv2d (conv1)               [32, 512, 28, 28]    [32, 256, 28, 28]    131,072              True\n",
       "│    │    └─BatchNorm2d (bn1)            [32, 256, 28, 28]    [32, 256, 28, 28]    512                  True\n",
       "│    │    └─ReLU (relu)                  [32, 256, 28, 28]    [32, 256, 28, 28]    --                   --\n",
       "│    │    └─Conv2d (conv2)               [32, 256, 28, 28]    [32, 256, 14, 14]    589,824              True\n",
       "│    │    └─BatchNorm2d (bn2)            [32, 256, 14, 14]    [32, 256, 14, 14]    512                  True\n",
       "│    │    └─ReLU (relu)                  [32, 256, 14, 14]    [32, 256, 14, 14]    --                   --\n",
       "│    │    └─Conv2d (conv3)               [32, 256, 14, 14]    [32, 1024, 14, 14]   262,144              True\n",
       "│    │    └─BatchNorm2d (bn3)            [32, 1024, 14, 14]   [32, 1024, 14, 14]   2,048                True\n",
       "│    │    └─Sequential (downsample)      [32, 512, 28, 28]    [32, 1024, 14, 14]   526,336              True\n",
       "│    │    └─ReLU (relu)                  [32, 1024, 14, 14]   [32, 1024, 14, 14]   --                   --\n",
       "│    └─Bottleneck (1)                    [32, 1024, 14, 14]   [32, 1024, 14, 14]   --                   True\n",
       "│    │    └─Conv2d (conv1)               [32, 1024, 14, 14]   [32, 256, 14, 14]    262,144              True\n",
       "│    │    └─BatchNorm2d (bn1)            [32, 256, 14, 14]    [32, 256, 14, 14]    512                  True\n",
       "│    │    └─ReLU (relu)                  [32, 256, 14, 14]    [32, 256, 14, 14]    --                   --\n",
       "│    │    └─Conv2d (conv2)               [32, 256, 14, 14]    [32, 256, 14, 14]    589,824              True\n",
       "│    │    └─BatchNorm2d (bn2)            [32, 256, 14, 14]    [32, 256, 14, 14]    512                  True\n",
       "│    │    └─ReLU (relu)                  [32, 256, 14, 14]    [32, 256, 14, 14]    --                   --\n",
       "│    │    └─Conv2d (conv3)               [32, 256, 14, 14]    [32, 1024, 14, 14]   262,144              True\n",
       "│    │    └─BatchNorm2d (bn3)            [32, 1024, 14, 14]   [32, 1024, 14, 14]   2,048                True\n",
       "│    │    └─ReLU (relu)                  [32, 1024, 14, 14]   [32, 1024, 14, 14]   --                   --\n",
       "│    └─Bottleneck (2)                    [32, 1024, 14, 14]   [32, 1024, 14, 14]   --                   True\n",
       "│    │    └─Conv2d (conv1)               [32, 1024, 14, 14]   [32, 256, 14, 14]    262,144              True\n",
       "│    │    └─BatchNorm2d (bn1)            [32, 256, 14, 14]    [32, 256, 14, 14]    512                  True\n",
       "│    │    └─ReLU (relu)                  [32, 256, 14, 14]    [32, 256, 14, 14]    --                   --\n",
       "│    │    └─Conv2d (conv2)               [32, 256, 14, 14]    [32, 256, 14, 14]    589,824              True\n",
       "│    │    └─BatchNorm2d (bn2)            [32, 256, 14, 14]    [32, 256, 14, 14]    512                  True\n",
       "│    │    └─ReLU (relu)                  [32, 256, 14, 14]    [32, 256, 14, 14]    --                   --\n",
       "│    │    └─Conv2d (conv3)               [32, 256, 14, 14]    [32, 1024, 14, 14]   262,144              True\n",
       "│    │    └─BatchNorm2d (bn3)            [32, 1024, 14, 14]   [32, 1024, 14, 14]   2,048                True\n",
       "│    │    └─ReLU (relu)                  [32, 1024, 14, 14]   [32, 1024, 14, 14]   --                   --\n",
       "│    └─Bottleneck (3)                    [32, 1024, 14, 14]   [32, 1024, 14, 14]   --                   True\n",
       "│    │    └─Conv2d (conv1)               [32, 1024, 14, 14]   [32, 256, 14, 14]    262,144              True\n",
       "│    │    └─BatchNorm2d (bn1)            [32, 256, 14, 14]    [32, 256, 14, 14]    512                  True\n",
       "│    │    └─ReLU (relu)                  [32, 256, 14, 14]    [32, 256, 14, 14]    --                   --\n",
       "│    │    └─Conv2d (conv2)               [32, 256, 14, 14]    [32, 256, 14, 14]    589,824              True\n",
       "│    │    └─BatchNorm2d (bn2)            [32, 256, 14, 14]    [32, 256, 14, 14]    512                  True\n",
       "│    │    └─ReLU (relu)                  [32, 256, 14, 14]    [32, 256, 14, 14]    --                   --\n",
       "│    │    └─Conv2d (conv3)               [32, 256, 14, 14]    [32, 1024, 14, 14]   262,144              True\n",
       "│    │    └─BatchNorm2d (bn3)            [32, 1024, 14, 14]   [32, 1024, 14, 14]   2,048                True\n",
       "│    │    └─ReLU (relu)                  [32, 1024, 14, 14]   [32, 1024, 14, 14]   --                   --\n",
       "│    └─Bottleneck (4)                    [32, 1024, 14, 14]   [32, 1024, 14, 14]   --                   True\n",
       "│    │    └─Conv2d (conv1)               [32, 1024, 14, 14]   [32, 256, 14, 14]    262,144              True\n",
       "│    │    └─BatchNorm2d (bn1)            [32, 256, 14, 14]    [32, 256, 14, 14]    512                  True\n",
       "│    │    └─ReLU (relu)                  [32, 256, 14, 14]    [32, 256, 14, 14]    --                   --\n",
       "│    │    └─Conv2d (conv2)               [32, 256, 14, 14]    [32, 256, 14, 14]    589,824              True\n",
       "│    │    └─BatchNorm2d (bn2)            [32, 256, 14, 14]    [32, 256, 14, 14]    512                  True\n",
       "│    │    └─ReLU (relu)                  [32, 256, 14, 14]    [32, 256, 14, 14]    --                   --\n",
       "│    │    └─Conv2d (conv3)               [32, 256, 14, 14]    [32, 1024, 14, 14]   262,144              True\n",
       "│    │    └─BatchNorm2d (bn3)            [32, 1024, 14, 14]   [32, 1024, 14, 14]   2,048                True\n",
       "│    │    └─ReLU (relu)                  [32, 1024, 14, 14]   [32, 1024, 14, 14]   --                   --\n",
       "│    └─Bottleneck (5)                    [32, 1024, 14, 14]   [32, 1024, 14, 14]   --                   True\n",
       "│    │    └─Conv2d (conv1)               [32, 1024, 14, 14]   [32, 256, 14, 14]    262,144              True\n",
       "│    │    └─BatchNorm2d (bn1)            [32, 256, 14, 14]    [32, 256, 14, 14]    512                  True\n",
       "│    │    └─ReLU (relu)                  [32, 256, 14, 14]    [32, 256, 14, 14]    --                   --\n",
       "│    │    └─Conv2d (conv2)               [32, 256, 14, 14]    [32, 256, 14, 14]    589,824              True\n",
       "│    │    └─BatchNorm2d (bn2)            [32, 256, 14, 14]    [32, 256, 14, 14]    512                  True\n",
       "│    │    └─ReLU (relu)                  [32, 256, 14, 14]    [32, 256, 14, 14]    --                   --\n",
       "│    │    └─Conv2d (conv3)               [32, 256, 14, 14]    [32, 1024, 14, 14]   262,144              True\n",
       "│    │    └─BatchNorm2d (bn3)            [32, 1024, 14, 14]   [32, 1024, 14, 14]   2,048                True\n",
       "│    │    └─ReLU (relu)                  [32, 1024, 14, 14]   [32, 1024, 14, 14]   --                   --\n",
       "├─Sequential (layer4)                    [32, 1024, 14, 14]   [32, 2048, 7, 7]     --                   True\n",
       "│    └─Bottleneck (0)                    [32, 1024, 14, 14]   [32, 2048, 7, 7]     --                   True\n",
       "│    │    └─Conv2d (conv1)               [32, 1024, 14, 14]   [32, 512, 14, 14]    524,288              True\n",
       "│    │    └─BatchNorm2d (bn1)            [32, 512, 14, 14]    [32, 512, 14, 14]    1,024                True\n",
       "│    │    └─ReLU (relu)                  [32, 512, 14, 14]    [32, 512, 14, 14]    --                   --\n",
       "│    │    └─Conv2d (conv2)               [32, 512, 14, 14]    [32, 512, 7, 7]      2,359,296            True\n",
       "│    │    └─BatchNorm2d (bn2)            [32, 512, 7, 7]      [32, 512, 7, 7]      1,024                True\n",
       "│    │    └─ReLU (relu)                  [32, 512, 7, 7]      [32, 512, 7, 7]      --                   --\n",
       "│    │    └─Conv2d (conv3)               [32, 512, 7, 7]      [32, 2048, 7, 7]     1,048,576            True\n",
       "│    │    └─BatchNorm2d (bn3)            [32, 2048, 7, 7]     [32, 2048, 7, 7]     4,096                True\n",
       "│    │    └─Sequential (downsample)      [32, 1024, 14, 14]   [32, 2048, 7, 7]     2,101,248            True\n",
       "│    │    └─ReLU (relu)                  [32, 2048, 7, 7]     [32, 2048, 7, 7]     --                   --\n",
       "│    └─Bottleneck (1)                    [32, 2048, 7, 7]     [32, 2048, 7, 7]     --                   True\n",
       "│    │    └─Conv2d (conv1)               [32, 2048, 7, 7]     [32, 512, 7, 7]      1,048,576            True\n",
       "│    │    └─BatchNorm2d (bn1)            [32, 512, 7, 7]      [32, 512, 7, 7]      1,024                True\n",
       "│    │    └─ReLU (relu)                  [32, 512, 7, 7]      [32, 512, 7, 7]      --                   --\n",
       "│    │    └─Conv2d (conv2)               [32, 512, 7, 7]      [32, 512, 7, 7]      2,359,296            True\n",
       "│    │    └─BatchNorm2d (bn2)            [32, 512, 7, 7]      [32, 512, 7, 7]      1,024                True\n",
       "│    │    └─ReLU (relu)                  [32, 512, 7, 7]      [32, 512, 7, 7]      --                   --\n",
       "│    │    └─Conv2d (conv3)               [32, 512, 7, 7]      [32, 2048, 7, 7]     1,048,576            True\n",
       "│    │    └─BatchNorm2d (bn3)            [32, 2048, 7, 7]     [32, 2048, 7, 7]     4,096                True\n",
       "│    │    └─ReLU (relu)                  [32, 2048, 7, 7]     [32, 2048, 7, 7]     --                   --\n",
       "│    └─Bottleneck (2)                    [32, 2048, 7, 7]     [32, 2048, 7, 7]     --                   True\n",
       "│    │    └─Conv2d (conv1)               [32, 2048, 7, 7]     [32, 512, 7, 7]      1,048,576            True\n",
       "│    │    └─BatchNorm2d (bn1)            [32, 512, 7, 7]      [32, 512, 7, 7]      1,024                True\n",
       "│    │    └─ReLU (relu)                  [32, 512, 7, 7]      [32, 512, 7, 7]      --                   --\n",
       "│    │    └─Conv2d (conv2)               [32, 512, 7, 7]      [32, 512, 7, 7]      2,359,296            True\n",
       "│    │    └─BatchNorm2d (bn2)            [32, 512, 7, 7]      [32, 512, 7, 7]      1,024                True\n",
       "│    │    └─ReLU (relu)                  [32, 512, 7, 7]      [32, 512, 7, 7]      --                   --\n",
       "│    │    └─Conv2d (conv3)               [32, 512, 7, 7]      [32, 2048, 7, 7]     1,048,576            True\n",
       "│    │    └─BatchNorm2d (bn3)            [32, 2048, 7, 7]     [32, 2048, 7, 7]     4,096                True\n",
       "│    │    └─ReLU (relu)                  [32, 2048, 7, 7]     [32, 2048, 7, 7]     --                   --\n",
       "├─AdaptiveAvgPool2d (avgpool)            [32, 2048, 7, 7]     [32, 2048, 1, 1]     --                   --\n",
       "├─Linear (fc)                            [32, 2048]           [32, 4]              8,196                True\n",
       "========================================================================================================================\n",
       "Total params: 23,516,228\n",
       "Trainable params: 23,516,228\n",
       "Non-trainable params: 0\n",
       "Total mult-adds (G): 130.79\n",
       "========================================================================================================================\n",
       "Input size (MB): 19.27\n",
       "Forward/backward pass size (MB): 5690.36\n",
       "Params size (MB): 94.06\n",
       "Estimated Total Size (MB): 5803.69\n",
       "========================================================================================================================"
      ]
     },
     "execution_count": 11,
     "metadata": {},
     "output_type": "execute_result"
    }
   ],
   "source": [
    "from torchinfo import summary\n",
    "summary(model = model,\n",
    "        input_size = (32, 3, 224, 224),\n",
    "        col_names = [\"input_size\", \"output_size\", \"num_params\", \"trainable\"],\n",
    "        col_width = 20,\n",
    "        row_settings = [\"var_names\"]\n",
    "       )"
   ]
  },
  {
   "cell_type": "code",
   "execution_count": 12,
   "id": "25338cf5",
   "metadata": {},
   "outputs": [],
   "source": [
    "for p in model.parameters(): p.requires_grad = False\n",
    "for param in model.layer4.parameters():\n",
    "    param.requires_grad = True\n",
    "for p in model.fc.parameters(): p.requires_grad = True"
   ]
  },
  {
   "cell_type": "code",
   "execution_count": 13,
   "id": "a1aa7c72",
   "metadata": {},
   "outputs": [],
   "source": [
    "model = model.to(DEVICE)"
   ]
  },
  {
   "cell_type": "code",
   "execution_count": 14,
   "id": "e78970d1",
   "metadata": {},
   "outputs": [],
   "source": [
    "criterion = nn.CrossEntropyLoss()\n",
    "optimizer = torch.optim.Adam(\n",
    "    filter(lambda p: p.requires_grad, model.parameters()), \n",
    "    lr=1e-4\n",
    ")\n"
   ]
  },
  {
   "cell_type": "code",
   "execution_count": 15,
   "id": "99a42b23",
   "metadata": {},
   "outputs": [],
   "source": [
    "def train(model, loader, criterion, optimizer, device):\n",
    "    model.train()\n",
    "    running_loss = 0\n",
    "    correct = 0\n",
    "    total = 0\n",
    "    for inputs, labels in loader:\n",
    "        inputs, labels = inputs.to(device), labels.to(device)\n",
    "\n",
    "        optimizer.zero_grad()\n",
    "        outputs = model(inputs)\n",
    "        loss = criterion(outputs, labels)\n",
    "        loss.backward()\n",
    "        optimizer.step()\n",
    "\n",
    "        running_loss += loss.item() * inputs.size(0)\n",
    "        _, preds = torch.max(outputs, 1)\n",
    "        correct += (preds == labels).sum().item()\n",
    "        total += labels.size(0)\n",
    "\n",
    "    epoch_loss = running_loss / total\n",
    "    epoch_acc = correct / total\n",
    "    return epoch_loss, epoch_acc\n",
    "\n",
    "# Evaluation function\n",
    "def evaluate(model, loader, criterion, device):\n",
    "    model.eval()\n",
    "    running_loss = 0\n",
    "    correct = 0\n",
    "    total = 0\n",
    "    with torch.no_grad():\n",
    "        for inputs, labels in loader:\n",
    "            inputs, labels = inputs.to(device), labels.to(device)\n",
    "            outputs = model(inputs)\n",
    "            loss = criterion(outputs, labels)\n",
    "\n",
    "            running_loss += loss.item() * inputs.size(0)\n",
    "            _, preds = torch.max(outputs, 1)\n",
    "            correct += (preds == labels).sum().item()\n",
    "            total += labels.size(0)\n",
    "\n",
    "    epoch_loss = running_loss / total\n",
    "    epoch_acc = correct / total\n",
    "    return epoch_loss, epoch_acc"
   ]
  },
  {
   "cell_type": "code",
   "execution_count": 16,
   "id": "fdc8c820",
   "metadata": {},
   "outputs": [
    {
     "name": "stdout",
     "output_type": "stream",
     "text": [
      "Epoch 1/5, Time: 2401.85s\n",
      "  Train Loss: 0.3123, Train Acc: 0.8751\n",
      "  Val Loss  : 0.2563, Val Acc  : 0.9033\n",
      "Epoch 2/5, Time: 2524.41s\n",
      "  Train Loss: 0.0899, Train Acc: 0.9678\n",
      "  Val Loss  : 0.1171, Val Acc  : 0.9561\n",
      "Epoch 3/5, Time: 2441.09s\n",
      "  Train Loss: 0.0505, Train Acc: 0.9827\n",
      "  Val Loss  : 0.0966, Val Acc  : 0.9650\n",
      "Epoch 4/5, Time: 2489.51s\n",
      "  Train Loss: 0.0356, Train Acc: 0.9881\n",
      "  Val Loss  : 0.0742, Val Acc  : 0.9740\n",
      "Epoch 5/5, Time: 2542.13s\n",
      "  Train Loss: 0.0270, Train Acc: 0.9911\n",
      "  Val Loss  : 0.0737, Val Acc  : 0.9738\n"
     ]
    }
   ],
   "source": [
    "import time\n",
    "num_epochs = 5\n",
    "\n",
    "for epoch in range(num_epochs):\n",
    "    start_time = time.time()\n",
    "\n",
    "    train_loss, train_acc = train(model, train_loader, criterion, optimizer, DEVICE)\n",
    "    val_loss, val_acc = evaluate(model, test_loader, criterion, DEVICE)\n",
    "\n",
    "    elapsed = time.time() - start_time\n",
    "    print(f\"Epoch {epoch+1}/{num_epochs}, Time: {elapsed:.2f}s\")\n",
    "    print(f\"  Train Loss: {train_loss:.4f}, Train Acc: {train_acc:.4f}\")\n",
    "    print(f\"  Val Loss  : {val_loss:.4f}, Val Acc  : {val_acc:.4f}\")"
   ]
  },
  {
   "cell_type": "code",
   "execution_count": 17,
   "id": "9eeae803",
   "metadata": {},
   "outputs": [],
   "source": [
    "torch.save(model.state_dict(), 'resnet50_extraDataWith_extraLayer.pth')"
   ]
  },
  {
   "cell_type": "code",
   "execution_count": null,
   "id": "4975c509",
   "metadata": {},
   "outputs": [],
   "source": []
  }
 ],
 "metadata": {
  "kernelspec": {
   "display_name": "Python 3",
   "language": "python",
   "name": "python3"
  },
  "language_info": {
   "codemirror_mode": {
    "name": "ipython",
    "version": 3
   },
   "file_extension": ".py",
   "mimetype": "text/x-python",
   "name": "python",
   "nbconvert_exporter": "python",
   "pygments_lexer": "ipython3",
   "version": "3.9.6"
  }
 },
 "nbformat": 4,
 "nbformat_minor": 5
}
